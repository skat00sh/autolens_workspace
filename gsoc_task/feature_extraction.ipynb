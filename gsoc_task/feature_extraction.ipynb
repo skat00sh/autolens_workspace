{
 "cells": [
  {
   "cell_type": "code",
   "execution_count": 1,
   "metadata": {},
   "outputs": [],
   "source": [
    "import os\n",
    "\n",
    "\n",
    "import torch\n",
    "from torch import nn\n",
    "from torch import optim\n",
    "import torch.nn.functional as F\n",
    "from torchvision import datasets, transforms, models\n",
    "\n",
    "\n",
    "import matplotlib.pyplot as plt\n",
    "import numpy as np\n",
    "import pandas as pd\n",
    "from PIL import Image\n",
    "import skimage.io as io\n",
    "from skimage.io import imread_collection\n",
    "\n",
    "import utils\n",
    "\n",
    "%matplotlib inline\n",
    "\n",
    "#To reload imported modules without restarting the kernel\n",
    "%load_ext autoreload\n",
    "%autoreload 2"
   ]
  },
  {
   "cell_type": "code",
   "execution_count": 2,
   "metadata": {},
   "outputs": [
    {
     "name": "stdout",
     "output_type": "stream",
     "text": [
      "Reading from Existing CSV File:  /home/devendra/projects/gsoc/lenses/lense.csv\n",
      "***Now creating Train-Test Split***\n",
      "Found Existing train.csv at : /home/devendra/projects/gsoc/lenses/train/train.csv\n",
      "Found Existing test.csv at : /home/devendra/projects/gsoc/lenses/test/test.csv\n"
     ]
    }
   ],
   "source": [
    "# Takes input directory where you have sub and no-_sub directories and creates train and test split\n",
    "input_dir = \"/home/devendra/projects/gsoc/lenses/\"\n",
    "train,test = utils.prepare_data(input_dir, train_ratio=0.7)"
   ]
  },
  {
   "cell_type": "code",
   "execution_count": 3,
   "metadata": {},
   "outputs": [],
   "source": [
    "# path to test and train directories\n",
    "train_dir = os.path.join(input_dir, 'train')\n",
    "train_dir = '/home/devendra/projects/gsoc/lenses/train/'\n",
    "test_dir = os.path.join(input_dir, 'test')\n",
    "\n",
    "# transforms to be applied on each image while loading\n",
    "transform = transforms.Compose([transforms.Resize((112, 112)),\n",
    "                                transforms.ToTensor()])\n",
    "\n",
    "# Loading images\n",
    "train_data = datasets.ImageFolder(train_dir, transform = transform)\n",
    "test_data = datasets.ImageFolder(test_dir, transform = transform)\n",
    "\n",
    "#Defining dataloaders\n",
    "batch_size = 64\n",
    "train_loader = torch.utils.data.DataLoader(train_data, batch_size = batch_size, shuffle=True)\n",
    "test_loader = torch.utils.data.DataLoader(test_data, batch_size = batch_size)"
   ]
  },
  {
   "cell_type": "code",
   "execution_count": 4,
   "metadata": {},
   "outputs": [],
   "source": [
    "class Autoencoder(nn.Module):\n",
    "   \n",
    "    def __init__(self):\n",
    "\n",
    "        super(Autoencoder, self).__init__()\n",
    "\n",
    "        # Encoder\n",
    "        ## Conv2D -> ReLu -> Conv2D -> ReLU->Conv2D\n",
    "        self.encoder = nn.Sequential(\n",
    "            nn.Conv2d(in_channels = 3, out_channels = 16, kernel_size = 7,\n",
    "                      stride = 3, padding = 1),\n",
    "            nn.ReLU(),\n",
    "            nn.Conv2d(in_channels = 16, out_channels = 32, kernel_size = 7,\n",
    "                      stride = 3, padding = 1),\n",
    "            nn.ReLU(),\n",
    "            nn.Conv2d(in_channels = 32, out_channels = 64, kernel_size = 7)\n",
    "        )\n",
    "\n",
    "        # Decoder \n",
    "        ## ConvTrans2D -> ReLu -> ConvTrans2D -> ReLU->ConvTrans2D -> Sigmoid\n",
    "        self.decoder = nn.Sequential(\n",
    "            nn.ConvTranspose2d(in_channels = 64, out_channels = 32, kernel_size = 7),\n",
    "            nn.ReLU(),\n",
    "            nn.ConvTranspose2d(in_channels = 32, out_channels = 16, kernel_size = 7,\n",
    "                               stride = 3, padding = 1, output_padding = 1),\n",
    "            nn.ReLU(),\n",
    "            nn.ConvTranspose2d(in_channels = 16, out_channels = 3, kernel_size = 7,\n",
    "                               stride = 3, padding = 1, output_padding = 2),\n",
    "            nn.Sigmoid()\n",
    "        )\n",
    "\n",
    "    def forward(self, x):\n",
    "        '''Forward pass through the network'''\n",
    "        encoded = self.encoder(x)\n",
    "        decoded = self.decoder(encoded)\n",
    "\n",
    "        return decoded"
   ]
  },
  {
   "cell_type": "code",
   "execution_count": 5,
   "metadata": {},
   "outputs": [],
   "source": [
    "def train(model, optimizer, loss_func, train_loader, num_epochs=5):\n",
    "    '''\n",
    "        Function to train model on training dataset\n",
    "\n",
    "        params:\n",
    "            model: model architecture for training\n",
    "            optimizer: OptimizerClass() object \n",
    "            loss_func: Loss function from LossClass()\n",
    "            train_loader: DataLoader object\n",
    "            num_epochs: number of epochs to train model \n",
    "            \n",
    "        return: \n",
    "            results: list of tuples of the form (epoch, input_images, output_images)\n",
    "    '''\n",
    "    # set device to GPU if available\n",
    "    device = torch.device(\"cuda:0\" if torch.cuda.is_available() else \"cpu\")\n",
    "    \n",
    "    print(\"***** Training Begins *****\")\n",
    "    \n",
    "    results = []\n",
    "    for epoch in range(num_epochs):\n",
    "        for images, _ in train_loader:\n",
    "            images = images.to(device)\n",
    "\n",
    "            outputs = model(images)\n",
    "            loss = loss_func(outputs, images)\n",
    "\n",
    "            loss.backward()\n",
    "            optimizer.step()\n",
    "            optimizer.zero_grad()\n",
    "\n",
    "        # print training logs\n",
    "        print('Epoch:{} | Training loss:{:.4f}'.format(epoch+1, float(loss)))\n",
    "        #cache results\n",
    "        results.append((epoch, images, outputs),)\n",
    "    return results\n",
    "\n",
    "\n",
    "def infer(model, device, test_loader):\n",
    "    '''\n",
    "        Function to test trained model on testing dataset\n",
    "\n",
    "        params: \n",
    "            model: model to be used for inference\n",
    "            test_loader: DataLoader object for testing data\n",
    "        \n",
    "        returns: \n",
    "            losses: list of loss on each image\n",
    "    '''\n",
    "\n",
    "    model.eval()\n",
    "    losses = []\n",
    "\n",
    "    for images,_ in test_loader:\n",
    "       images = images.to(device)\n",
    "       output = model(images)\n",
    "       loss = nn.MSELoss()(output, images)\n",
    "       losses.append(loss.item())\n",
    "    return losses"
   ]
  },
  {
   "cell_type": "code",
   "execution_count": 10,
   "metadata": {},
   "outputs": [],
   "source": [
    "def save_model(model, optimizer, path):\n",
    "    '''\n",
    "     Method to save trained model\n",
    "     -------------------------------------\n",
    "     params: \n",
    "         model: model to save\n",
    "         optimizer: corresponding optimizer associated with model\n",
    "         path: path to store model\n",
    "    '''\n",
    "\n",
    "    torch.save({\n",
    "        'model': model.state_dict(), \n",
    "        'optimizer' : optimizer.state_dict(),\n",
    "        }, path)\n",
    "    \n",
    "    \n",
    "def load_model(path):\n",
    "    '''\n",
    "      Method to load saved model\n",
    "      \n",
    "      params: \n",
    "          save_path: path to location where model was saved\n",
    "\n",
    "      returns: \n",
    "          dict: {'model' : model, 'optimizer' : optimizer}\n",
    "    '''\n",
    "\n",
    "    return torch.load(path)\n",
    "\n",
    "\n",
    "def visualize_training(results, num_epochs, print_every=5):\n",
    "    '''\n",
    "        Method to display results after training\n",
    "        \n",
    "        params: \n",
    "            results: from train()\n",
    "            num_epochs: effective number of epochs to visualize\n",
    "            print_every: number of epochs to skip between each displayed result\n",
    "            \n",
    "        returns:\n",
    "        \n",
    "    '''\n",
    "\n",
    "    for epoch in range(0, num_epochs, print_every):\n",
    "        fig = plt.figure(figsize=(15, 3))\n",
    "        fig.suptitle(f\"Epoch: {epoch}\")\n",
    "\n",
    "        input_img = results[epoch][1].detach().cpu().numpy()\n",
    "        output_img = results[epoch][2].detach().cpu().numpy()\n",
    "\n",
    "        # display input images\n",
    "        for i, item in enumerate(input_img):\n",
    "            if i<=5:\n",
    "                plt.subplot(2, 5, i+1)\n",
    "                plt.imshow(item[0], cmap='gray', aspect='auto')\n",
    "        # display corresponding output images\n",
    "        for i, item in enumerate(output_img):\n",
    "            if i<5:\n",
    "                plt.subplot(2, 5, 5+i+1)\n",
    "                plt.imshow(item[0], cmap='gray', aspect='auto')\n",
    "\n",
    "\n",
    "def visualize_test_results(losses):\n",
    "    '''\n",
    "        Method to display test results\n",
    "\n",
    "        params: \n",
    "        losses: list of losses from test()\n",
    "        \n",
    "        returns:\n",
    "        \n",
    "    '''\n",
    "\n",
    "    sns.kdeplot(losses, shade = True).set_title(\"Loss Distribution\")\n",
    "    # add rug plot\n",
    "#     sns.rugplot(losses)\n",
    "    plt.show()"
   ]
  },
  {
   "cell_type": "code",
   "execution_count": 33,
   "metadata": {},
   "outputs": [
    {
     "name": "stdout",
     "output_type": "stream",
     "text": [
      "2020-03-30 16:43:38.663260\n",
      "./gravitational_lensing_autoencoder_model_2020-03-30_16:43:38.663454.pkl\n"
     ]
    }
   ],
   "source": [
    "import datetime\n",
    "print(datetime.datetime.now())\n",
    "model_save_path = \"./gravitational_lensing_autoencoder_model_\"+str(datetime.datetime.now()).replace(\" \",\"_\")+\".pkl\"\n",
    "print(model_save_path)"
   ]
  },
  {
   "cell_type": "code",
   "execution_count": 11,
   "metadata": {},
   "outputs": [
    {
     "name": "stdout",
     "output_type": "stream",
     "text": [
      "***** Training Begins *****\n",
      "Epoch:1 | Training loss:0.0084\n",
      "Epoch:2 | Training loss:0.0092\n",
      "Epoch:3 | Training loss:0.0086\n"
     ]
    },
    {
     "name": "stderr",
     "output_type": "stream",
     "text": [
      "/home/devendra/myinstallations/anaconda3/envs/i2dl/lib/python3.7/site-packages/ipykernel_launcher.py:59: MatplotlibDeprecationWarning: Adding an axes using the same arguments as a previous axes currently reuses the earlier instance.  In a future version, a new instance will always be created and returned.  Meanwhile, this warning can be suppressed, and the future behavior ensured, by passing a unique label to each axes instance.\n"
     ]
    },
    {
     "data": {
      "image/png": "[encoded data removed]",
      "text/plain": [
       "<Figure size 1080x216 with 10 Axes>"
      ]
     },
     "metadata": {
      "needs_background": "light"
     },
     "output_type": "display_data"
    }
   ],
   "source": [
    "# Defining hyper-parameters for new model\n",
    "num_epochs = 3\n",
    "learning_rate = 1e-3\n",
    "\n",
    "\n",
    "model = Autoencoder()\n",
    "# move model to GPU if available\n",
    "if torch.cuda.is_available():\n",
    "    model.cuda()\n",
    "\n",
    "optimizer = torch.optim.Adam(model.parameters(), lr=learning_rate,weight_decay=1e-5)\n",
    "\n",
    "# Train model\n",
    "results = train(model, optimizer, nn.MSELoss(), train_loader, num_epochs = num_epochs)\n",
    "\n",
    "# Display training results\n",
    "visualize_training(results, num_epochs, 5)\n",
    "\n",
    "# change save path to where you want to save model\n",
    "\n",
    "model_save_path = \"./lensing_autoencoder_model_\"+\n",
    "                    str(datetime.datetime.now()).replace(\" \",\"_\")+\".pkl\"\n",
    "save_model(model, optimizer, model_save_path)\n"
   ]
  },
  {
   "cell_type": "code",
   "execution_count": null,
   "metadata": {},
   "outputs": [],
   "source": []
  },
  {
   "cell_type": "code",
   "execution_count": 13,
   "metadata": {},
   "outputs": [
    {
     "data": {
      "image/png": "[encoded data removed]",
      "text/plain": [
       "<Figure size 432x288 with 1 Axes>"
      ]
     },
     "metadata": {
      "needs_background": "light"
     },
     "output_type": "display_data"
    },
    {
     "name": "stdout",
     "output_type": "stream",
     "text": [
      "Test Loss: 0.0084\n"
     ]
    }
   ],
   "source": [
    "import seaborn as sns\n",
    "device = torch.device(\"cuda:0\" if torch.cuda.is_available() else \"cpu\")\n",
    "\n",
    "# test trained model\n",
    "losses = infer(model, device, test_loader)\n",
    "\n",
    "# display test results\n",
    "visualize_test_results(losses)\n",
    "\n",
    "# calculate and print average loss\n",
    "avg_loss = sum(losses)/len(losses)\n",
    "print(\"Test Loss: {:.4f}\".format(avg_loss))"
   ]
  },
  {
   "cell_type": "markdown",
   "metadata": {},
   "source": [
    "### Things to be tried:\n",
    "In no order of preference\n",
    "- Early Stopping : If the model loss doesn't decrease for 2-3 consecutive epochs. stop training pre-emptively\n",
    "- Enhance model capacity byt increasing layers\n",
    "- Data Pre-processing : Use techniques like gaussian blur, Normalizing images, rotation, flipping etc.\n",
    "- Automate Hyper-parameter search\n",
    "- Use Sacred+omniboard to record results for future use\n",
    "- Attach TensorBoard"
   ]
  },
  {
   "cell_type": "code",
   "execution_count": null,
   "metadata": {},
   "outputs": [],
   "source": []
  }
 ],
 "metadata": {
  "kernelspec": {
   "display_name": "Python 3",
   "language": "python",
   "name": "python3"
  },
  "language_info": {
   "codemirror_mode": {
    "name": "ipython",
    "version": 3
   },
   "file_extension": ".py",
   "mimetype": "text/x-python",
   "name": "python",
   "nbconvert_exporter": "python",
   "pygments_lexer": "ipython3",
   "version": "3.7.5"
  }
 },
 "nbformat": 4,
 "nbformat_minor": 4
}
